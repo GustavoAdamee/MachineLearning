{
 "cells": [
  {
   "cell_type": "code",
   "execution_count": 29,
   "metadata": {},
   "outputs": [],
   "source": [
    "import pandas as pd\n",
    "\n",
    "uri = \"https://gist.githubusercontent.com/guilhermesilveira/e99a526b2e7ccc6c3b70f53db43a87d2/raw/1605fc74aa778066bf2e6695e24d53cf65f2f447/machine-learning-carros-simulacao.csv\"\n",
    "\n",
    "dados = pd.read_csv(uri).drop(columns=[\"Unnamed: 0\"], axis=1)\n",
    "\n",
    "x = dados[['preco', 'idade_do_modelo', 'km_por_ano']]\n",
    "y = dados['vendido']"
   ]
  },
  {
   "cell_type": "code",
   "execution_count": 30,
   "metadata": {},
   "outputs": [],
   "source": [
    "def imprimeResult(results):\n",
    "    media = results['test_score'].mean()\n",
    "    print(\"Resultados cross validation:\",results['test_score'])\n",
    "    print(\"Média da precisão: {0:.2f}\".format(media*100),'%')\n",
    "\n",
    "    #Acurracy fica entre a média + 2(desvio_padrao) e a média - 2(desvio_padrao)\n",
    "    desvio_padrao = results['test_score'].std()\n",
    "    print(\"Desvio padrão: {0:.2f}\".format(desvio_padrao*100),'%')\n",
    "\n",
    "    acumulo_baixo = media - 2*desvio_padrao\n",
    "    acumulo_alto = media + 2*desvio_padrao\n",
    "    print(\"Acurracy esta entre: [\",acumulo_baixo*100,\"---\", acumulo_alto*100,\"]\")"
   ]
  },
  {
   "cell_type": "markdown",
   "metadata": {},
   "source": [
    "<h2>Criando uma nova coluna (aleatória)</h2>\n",
    "<p>\n",
    "   A coluna representa a possibilidade de em um futuro o modelo ter que prever com dados não treinados previamente \n",
    "</p>"
   ]
  },
  {
   "cell_type": "code",
   "execution_count": 31,
   "metadata": {},
   "outputs": [
    {
     "data": {
      "text/plain": [
       "array([ 0, -1,  0, ..., -2, -1, -1])"
      ]
     },
     "execution_count": 31,
     "metadata": {},
     "output_type": "execute_result"
    }
   ],
   "source": [
    "import numpy as np\n",
    "\n",
    "SEED = 123\n",
    "\n",
    "np.random.seed(SEED)\n",
    "np.random.randint(-2,2, size = 10000) #size é o numero de linhas do dataFrame"
   ]
  },
  {
   "cell_type": "code",
   "execution_count": 32,
   "metadata": {},
   "outputs": [
    {
     "data": {
      "text/plain": [
       "array([20, 21, 14,  3,  4, 18, 12, 16,  2, 19,  9, 13, 17, 15, 10,  6,  8,\n",
       "       11,  7, 23, 22,  5,  1])"
      ]
     },
     "execution_count": 32,
     "metadata": {},
     "output_type": "execute_result"
    }
   ],
   "source": [
    "dados['modelo_aleatorio'] = dados.idade_do_modelo + np.random.randint(-2,2, size = 10000)\n",
    "#Deixa o menor valor da coluna possitivo\n",
    "abss = abs(dados['modelo_aleatorio'].unique().min())\n",
    "dados['modelo_aleatorio'] = dados['modelo_aleatorio'] + abss + 1    #somando 1 para que não seja 0\n",
    "dados['modelo_aleatorio'].unique()"
   ]
  },
  {
   "cell_type": "code",
   "execution_count": 33,
   "metadata": {},
   "outputs": [
    {
     "data": {
      "text/html": [
       "<div>\n",
       "<style scoped>\n",
       "    .dataframe tbody tr th:only-of-type {\n",
       "        vertical-align: middle;\n",
       "    }\n",
       "\n",
       "    .dataframe tbody tr th {\n",
       "        vertical-align: top;\n",
       "    }\n",
       "\n",
       "    .dataframe thead th {\n",
       "        text-align: right;\n",
       "    }\n",
       "</style>\n",
       "<table border=\"1\" class=\"dataframe\">\n",
       "  <thead>\n",
       "    <tr style=\"text-align: right;\">\n",
       "      <th></th>\n",
       "      <th>preco</th>\n",
       "      <th>vendido</th>\n",
       "      <th>idade_do_modelo</th>\n",
       "      <th>km_por_ano</th>\n",
       "      <th>modelo_aleatorio</th>\n",
       "    </tr>\n",
       "  </thead>\n",
       "  <tbody>\n",
       "    <tr>\n",
       "      <th>0</th>\n",
       "      <td>30941.02</td>\n",
       "      <td>1</td>\n",
       "      <td>18</td>\n",
       "      <td>35085.22134</td>\n",
       "      <td>20</td>\n",
       "    </tr>\n",
       "    <tr>\n",
       "      <th>1</th>\n",
       "      <td>40557.96</td>\n",
       "      <td>1</td>\n",
       "      <td>20</td>\n",
       "      <td>12622.05362</td>\n",
       "      <td>21</td>\n",
       "    </tr>\n",
       "    <tr>\n",
       "      <th>2</th>\n",
       "      <td>89627.50</td>\n",
       "      <td>0</td>\n",
       "      <td>12</td>\n",
       "      <td>11440.79806</td>\n",
       "      <td>14</td>\n",
       "    </tr>\n",
       "    <tr>\n",
       "      <th>3</th>\n",
       "      <td>95276.14</td>\n",
       "      <td>0</td>\n",
       "      <td>3</td>\n",
       "      <td>43167.32682</td>\n",
       "      <td>3</td>\n",
       "    </tr>\n",
       "    <tr>\n",
       "      <th>4</th>\n",
       "      <td>117384.68</td>\n",
       "      <td>1</td>\n",
       "      <td>4</td>\n",
       "      <td>12770.11290</td>\n",
       "      <td>4</td>\n",
       "    </tr>\n",
       "    <tr>\n",
       "      <th>...</th>\n",
       "      <td>...</td>\n",
       "      <td>...</td>\n",
       "      <td>...</td>\n",
       "      <td>...</td>\n",
       "      <td>...</td>\n",
       "    </tr>\n",
       "    <tr>\n",
       "      <th>9995</th>\n",
       "      <td>97112.86</td>\n",
       "      <td>0</td>\n",
       "      <td>12</td>\n",
       "      <td>25060.64248</td>\n",
       "      <td>14</td>\n",
       "    </tr>\n",
       "    <tr>\n",
       "      <th>9996</th>\n",
       "      <td>107424.63</td>\n",
       "      <td>1</td>\n",
       "      <td>16</td>\n",
       "      <td>21317.31764</td>\n",
       "      <td>19</td>\n",
       "    </tr>\n",
       "    <tr>\n",
       "      <th>9997</th>\n",
       "      <td>93856.99</td>\n",
       "      <td>0</td>\n",
       "      <td>4</td>\n",
       "      <td>20950.38812</td>\n",
       "      <td>7</td>\n",
       "    </tr>\n",
       "    <tr>\n",
       "      <th>9998</th>\n",
       "      <td>51250.57</td>\n",
       "      <td>1</td>\n",
       "      <td>7</td>\n",
       "      <td>16840.13376</td>\n",
       "      <td>8</td>\n",
       "    </tr>\n",
       "    <tr>\n",
       "      <th>9999</th>\n",
       "      <td>87945.73</td>\n",
       "      <td>0</td>\n",
       "      <td>19</td>\n",
       "      <td>19894.66108</td>\n",
       "      <td>21</td>\n",
       "    </tr>\n",
       "  </tbody>\n",
       "</table>\n",
       "<p>10000 rows × 5 columns</p>\n",
       "</div>"
      ],
      "text/plain": [
       "          preco  vendido  idade_do_modelo   km_por_ano  modelo_aleatorio\n",
       "0      30941.02        1               18  35085.22134                20\n",
       "1      40557.96        1               20  12622.05362                21\n",
       "2      89627.50        0               12  11440.79806                14\n",
       "3      95276.14        0                3  43167.32682                 3\n",
       "4     117384.68        1                4  12770.11290                 4\n",
       "...         ...      ...              ...          ...               ...\n",
       "9995   97112.86        0               12  25060.64248                14\n",
       "9996  107424.63        1               16  21317.31764                19\n",
       "9997   93856.99        0                4  20950.38812                 7\n",
       "9998   51250.57        1                7  16840.13376                 8\n",
       "9999   87945.73        0               19  19894.66108                21\n",
       "\n",
       "[10000 rows x 5 columns]"
      ]
     },
     "execution_count": 33,
     "metadata": {},
     "output_type": "execute_result"
    }
   ],
   "source": [
    "dados"
   ]
  },
  {
   "cell_type": "code",
   "execution_count": 34,
   "metadata": {},
   "outputs": [
    {
     "data": {
      "text/plain": [
       "20    937\n",
       "19    850\n",
       "18    788\n",
       "21    685\n",
       "15    680\n",
       "16    677\n",
       "17    671\n",
       "14    619\n",
       "13    590\n",
       "12    506\n",
       "11    506\n",
       "22    487\n",
       "10    373\n",
       "9     313\n",
       "8     296\n",
       "23    256\n",
       "7     245\n",
       "6     192\n",
       "5     142\n",
       "4      93\n",
       "3      61\n",
       "2      27\n",
       "1       6\n",
       "Name: modelo_aleatorio, dtype: int64"
      ]
     },
     "execution_count": 34,
     "metadata": {},
     "output_type": "execute_result"
    }
   ],
   "source": [
    "#Aleatoriedade adicionada e, alguns valores aparecem mais que outros -> era isso que queriamos!\n",
    "dados['modelo_aleatorio'].value_counts()"
   ]
  },
  {
   "cell_type": "markdown",
   "metadata": {},
   "source": [
    "<h2>GroupKFold</h2>\n",
    "<p>\n",
    "    Usar o sufle ou o straify ou randomstate não irá treinar do modo que queremos.<br>\n",
    "    Irá utilizar dados que estamos usando para verificar se o modelo prevê corretamente com 'dados futuros'.<br>\n",
    "    Por isso iremos usar GroupKFold, ele irá tratar corretamento os 'dados futuros'.<br>\n",
    "</p>"
   ]
  },
  {
   "cell_type": "code",
   "execution_count": 35,
   "metadata": {},
   "outputs": [
    {
     "name": "stdout",
     "output_type": "stream",
     "text": [
      "Resultados cross validation: [0.78496241 0.7967968  0.77138569 0.7827381  0.79618474]\n",
      "Média da precisão: 78.64 %\n",
      "Desvio padrão: 0.94 %\n",
      "Acurracy esta entre: [ 76.75511129385336 --- 80.5275979002337 ]\n"
     ]
    }
   ],
   "source": [
    "from sklearn.model_selection import GroupKFold\n",
    "from sklearn.tree import DecisionTreeClassifier\n",
    "from sklearn.model_selection import cross_validate\n",
    "\n",
    "cv = GroupKFold(n_splits = 5)\n",
    "\n",
    "model = DecisionTreeClassifier(max_depth = 3)\n",
    "\n",
    "result = cross_validate(model, x, y, cv = cv, groups = dados['modelo_aleatorio'])\n",
    "\n",
    "imprimeResult(result)"
   ]
  },
  {
   "cell_type": "markdown",
   "metadata": {},
   "source": [
    "<h4>A coluna 'modelo_aleatorio' não é usada para treino, mas é para o teste</h4>"
   ]
  }
 ],
 "metadata": {
  "kernelspec": {
   "display_name": "Python 3.8.10 64-bit",
   "language": "python",
   "name": "python3"
  },
  "language_info": {
   "codemirror_mode": {
    "name": "ipython",
    "version": 3
   },
   "file_extension": ".py",
   "mimetype": "text/x-python",
   "name": "python",
   "nbconvert_exporter": "python",
   "pygments_lexer": "ipython3",
   "version": "3.8.10"
  },
  "orig_nbformat": 4,
  "vscode": {
   "interpreter": {
    "hash": "916dbcbb3f70747c44a77c7bcd40155683ae19c65e1c03b4aa3499c5328201f1"
   }
  }
 },
 "nbformat": 4,
 "nbformat_minor": 2
}
