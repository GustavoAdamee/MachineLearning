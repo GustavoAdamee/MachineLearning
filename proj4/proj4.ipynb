{
 "cells": [
  {
   "cell_type": "markdown",
   "metadata": {},
   "source": [
    "<h1>Todos os modelos abaixo são 'black box'</h1>\n",
    "<span> SVC -> suport vector machine</span>"
   ]
  },
  {
   "cell_type": "code",
   "execution_count": 89,
   "metadata": {},
   "outputs": [],
   "source": [
    "import pandas as pd\n",
    "\n",
    "uri = \"https://gist.githubusercontent.com/guilhermesilveira/4d1d4a16ccbf6ea4e0a64a38a24ec884/raw/afd05cb0c796d18f3f5a6537053ded308ba94bf7/car-prices.csv\"\n",
    "dados = pd.read_csv(uri)\n",
    "# dados.head()"
   ]
  },
  {
   "cell_type": "code",
   "execution_count": 90,
   "metadata": {},
   "outputs": [],
   "source": [
    "#removendo coluna 1\n",
    "dados = dados.drop(columns=['Unnamed: 0'])\n",
    "# dados.head()"
   ]
  },
  {
   "cell_type": "code",
   "execution_count": 91,
   "metadata": {},
   "outputs": [],
   "source": [
    "#alterando valores da coluna solda\n",
    "change_dict = {\n",
    "    'yes': 1,\n",
    "    'no': 0\n",
    "}\n",
    "dados['sold'] = dados['sold'].map(change_dict)\n",
    "# dados.head()"
   ]
  },
  {
   "cell_type": "code",
   "execution_count": 92,
   "metadata": {},
   "outputs": [],
   "source": [
    "#model_year changing to model_age\n",
    "from datetime import datetime\n",
    "dados['model_age'] = datetime.today().year - dados['model_year']\n",
    "dados = dados.drop(columns=['model_year'])\n",
    "# dados.head()"
   ]
  },
  {
   "cell_type": "code",
   "execution_count": 93,
   "metadata": {},
   "outputs": [],
   "source": [
    "#Separando dados de treino e teste\n",
    "x = dados[['mileage_per_year','price','model_age']]\n",
    "y = dados['sold']\n",
    "# print(x.head())\n",
    "# print(y.head())"
   ]
  },
  {
   "cell_type": "markdown",
   "metadata": {},
   "source": [
    "<h2>MODELO LINEAR</h2>"
   ]
  },
  {
   "cell_type": "code",
   "execution_count": 94,
   "metadata": {},
   "outputs": [
    {
     "name": "stdout",
     "output_type": "stream",
     "text": [
      "7500 modelos de treino e, 2500 modelos de teste\n",
      "Acurácia do modelo: 52.16%\n"
     ]
    },
    {
     "name": "stderr",
     "output_type": "stream",
     "text": [
      "/home/adame/.local/lib/python3.8/site-packages/sklearn/svm/_base.py:1225: ConvergenceWarning: Liblinear failed to converge, increase the number of iterations.\n",
      "  warnings.warn(\n"
     ]
    }
   ],
   "source": [
    "#Treinando\n",
    "from sklearn.svm import LinearSVC\n",
    "from sklearn.model_selection import train_test_split\n",
    "import numpy as np\n",
    "\n",
    "SEED = 5\n",
    "np.random.seed(SEED)\n",
    "\n",
    "x_train, x_test, y_train, y_test = train_test_split(x, y, test_size=0.25, stratify=y)\n",
    "print('{} modelos de treino e, {} modelos de teste'.format(len(x_train), len(x_test)))\n",
    "\n",
    "model = LinearSVC()\n",
    "model.fit(x_train, y_train)\n",
    "\n",
    "print('Acurácia do modelo: {}%'.format(model.score(x_test, y_test)*100))"
   ]
  },
  {
   "cell_type": "markdown",
   "metadata": {},
   "source": [
    "<h2>MODELOS DUMMY (base line)</h2>"
   ]
  },
  {
   "cell_type": "code",
   "execution_count": 95,
   "metadata": {},
   "outputs": [],
   "source": [
    "#Comparando com modelos dummy\n",
    "from sklearn.dummy import DummyClassifier\n",
    "\n",
    "dummy_stratified = DummyClassifier(strategy='stratified')\n",
    "dummy_most_frequent = DummyClassifier(strategy='most_frequent')"
   ]
  },
  {
   "cell_type": "code",
   "execution_count": 96,
   "metadata": {},
   "outputs": [
    {
     "name": "stdout",
     "output_type": "stream",
     "text": [
      "Acurácia do modelo dummy stratified: 52.44%\n",
      "Acurácia do modelo dummy most frequent: 58.00%\n"
     ]
    }
   ],
   "source": [
    "dummy_stratified.fit(x_train, y_train)\n",
    "dummy_most_frequent.fit(x_train, y_train)\n",
    "print('Acurácia do modelo dummy stratified: {}%'.format(dummy_stratified.score(x_test, y_test)*100))\n",
    "print('Acurácia do modelo dummy most frequent: {0:.2f}%'.format(dummy_most_frequent.score(x_test, y_test)*100))"
   ]
  },
  {
   "cell_type": "markdown",
   "metadata": {},
   "source": [
    "<h2>MODELO NÂO LINEAR SVC</h2>"
   ]
  },
  {
   "cell_type": "code",
   "execution_count": 97,
   "metadata": {},
   "outputs": [
    {
     "name": "stdout",
     "output_type": "stream",
     "text": [
      "Acurácia do modelo: 76.44%\n"
     ]
    }
   ],
   "source": [
    "#treinando\n",
    "from sklearn.preprocessing import StandardScaler\n",
    "from sklearn.svm import SVC\n",
    "\n",
    "raw_train_x, raw_test_x, train_y, test_y = train_test_split(x, y, test_size=0.25, stratify=y)\n",
    "\n",
    "#normalizando dados para o treino do modelo não linear\n",
    "scaler = StandardScaler()\n",
    "scaler.fit(raw_train_x)\n",
    "train_x = scaler.transform(raw_train_x)\n",
    "test_x = scaler.transform(raw_test_x)\n",
    "\n",
    "model = SVC()\n",
    "model.fit(train_x, train_y)\n",
    "\n",
    "print('Acurácia do modelo: {}%'.format(model.score(test_x,test_y)*100))"
   ]
  }
 ],
 "metadata": {
  "kernelspec": {
   "display_name": "Python 3.8.10 64-bit",
   "language": "python",
   "name": "python3"
  },
  "language_info": {
   "codemirror_mode": {
    "name": "ipython",
    "version": 3
   },
   "file_extension": ".py",
   "mimetype": "text/x-python",
   "name": "python",
   "nbconvert_exporter": "python",
   "pygments_lexer": "ipython3",
   "version": "3.8.10"
  },
  "orig_nbformat": 4,
  "vscode": {
   "interpreter": {
    "hash": "916dbcbb3f70747c44a77c7bcd40155683ae19c65e1c03b4aa3499c5328201f1"
   }
  }
 },
 "nbformat": 4,
 "nbformat_minor": 2
}
