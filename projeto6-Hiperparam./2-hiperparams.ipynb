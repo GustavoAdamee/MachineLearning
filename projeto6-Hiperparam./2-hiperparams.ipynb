{
 "cells": [
  {
   "cell_type": "code",
   "execution_count": 1,
   "metadata": {},
   "outputs": [
    {
     "data": {
      "text/html": [
       "<div>\n",
       "<style scoped>\n",
       "    .dataframe tbody tr th:only-of-type {\n",
       "        vertical-align: middle;\n",
       "    }\n",
       "\n",
       "    .dataframe tbody tr th {\n",
       "        vertical-align: top;\n",
       "    }\n",
       "\n",
       "    .dataframe thead th {\n",
       "        text-align: right;\n",
       "    }\n",
       "</style>\n",
       "<table border=\"1\" class=\"dataframe\">\n",
       "  <thead>\n",
       "    <tr style=\"text-align: right;\">\n",
       "      <th></th>\n",
       "      <th>preco</th>\n",
       "      <th>vendido</th>\n",
       "      <th>idade_do_modelo</th>\n",
       "      <th>km_por_ano</th>\n",
       "    </tr>\n",
       "  </thead>\n",
       "  <tbody>\n",
       "    <tr>\n",
       "      <th>0</th>\n",
       "      <td>30941.02</td>\n",
       "      <td>1</td>\n",
       "      <td>18</td>\n",
       "      <td>35085.22134</td>\n",
       "    </tr>\n",
       "    <tr>\n",
       "      <th>1</th>\n",
       "      <td>40557.96</td>\n",
       "      <td>1</td>\n",
       "      <td>20</td>\n",
       "      <td>12622.05362</td>\n",
       "    </tr>\n",
       "    <tr>\n",
       "      <th>2</th>\n",
       "      <td>89627.50</td>\n",
       "      <td>0</td>\n",
       "      <td>12</td>\n",
       "      <td>11440.79806</td>\n",
       "    </tr>\n",
       "    <tr>\n",
       "      <th>3</th>\n",
       "      <td>95276.14</td>\n",
       "      <td>0</td>\n",
       "      <td>3</td>\n",
       "      <td>43167.32682</td>\n",
       "    </tr>\n",
       "    <tr>\n",
       "      <th>4</th>\n",
       "      <td>117384.68</td>\n",
       "      <td>1</td>\n",
       "      <td>4</td>\n",
       "      <td>12770.11290</td>\n",
       "    </tr>\n",
       "  </tbody>\n",
       "</table>\n",
       "</div>"
      ],
      "text/plain": [
       "       preco  vendido  idade_do_modelo   km_por_ano\n",
       "0   30941.02        1               18  35085.22134\n",
       "1   40557.96        1               20  12622.05362\n",
       "2   89627.50        0               12  11440.79806\n",
       "3   95276.14        0                3  43167.32682\n",
       "4  117384.68        1                4  12770.11290"
      ]
     },
     "execution_count": 1,
     "metadata": {},
     "output_type": "execute_result"
    }
   ],
   "source": [
    "import pandas as pd\n",
    "\n",
    "uri = \"https://gist.githubusercontent.com/guilhermesilveira/e99a526b2e7ccc6c3b70f53db43a87d2/raw/1605fc74aa778066bf2e6695e24d53cf65f2f447/machine-learning-carros-simulacao.csv\"\n",
    "\n",
    "dados = pd.read_csv(uri).drop(columns=[\"Unnamed: 0\"], axis=1)\n",
    "\n",
    "dados.head()"
   ]
  },
  {
   "cell_type": "code",
   "execution_count": 2,
   "metadata": {},
   "outputs": [],
   "source": [
    "def imprime_resultados(results):\n",
    "  media = results['test_score'].mean() * 100\n",
    "  desvio = results['test_score'].std() * 100\n",
    "  print(\"Accuracy médio %.2f\" % media)\n",
    "  print(\"Intervalo [%.2f, %.2f]\" % (media - 2 * desvio, media + 2 * desvio))"
   ]
  },
  {
   "cell_type": "code",
   "execution_count": 3,
   "metadata": {},
   "outputs": [],
   "source": [
    "# situação horrível de \"azar\" onde as classes estão ordenadas por padrão\n",
    "\n",
    "dados_azar = dados.sort_values(\"vendido\", ascending=True)\n",
    "x_azar = dados_azar[[\"preco\", \"idade_do_modelo\",\"km_por_ano\"]]\n",
    "y_azar = dados_azar[\"vendido\"]"
   ]
  },
  {
   "cell_type": "code",
   "execution_count": 4,
   "metadata": {},
   "outputs": [],
   "source": [
    "import numpy as np\n",
    "\n",
    "SEED = 333\n",
    "\n",
    "np.random.seed(SEED)\n",
    "dados['modelo'] = dados.idade_do_modelo + np.random.randint(-2, 3, size=10000)\n",
    "dados.modelo = dados.modelo + abs(dados.modelo.min()) + 1"
   ]
  },
  {
   "cell_type": "code",
   "execution_count": 5,
   "metadata": {},
   "outputs": [],
   "source": [
    "import numpy as np\n",
    "from sklearn.model_selection import GroupKFold\n",
    "from sklearn.model_selection import cross_validate\n",
    "from sklearn.tree import DecisionTreeClassifier\n",
    "\n",
    "def roda_arvore_de_decisao(max_depth, min_samples_leaf):\n",
    "  SEED = 301\n",
    "  np.random.seed(SEED)\n",
    "\n",
    "  cv = GroupKFold(n_splits = 10)\n",
    "  modelo = DecisionTreeClassifier(max_depth=max_depth, min_samples_leaf = min_samples_leaf)\n",
    "  results = cross_validate(modelo, x_azar, y_azar, cv = cv, groups = dados.modelo, return_train_score=True)\n",
    "  train_score = results['train_score'].mean() * 100\n",
    "  test_score = results['test_score'].mean() * 100\n",
    "  print(\"Arvore max_depth = %d, min_samples_leaf = %d, treino = %.2f, teste = %.2f\" % (max_depth, min_samples_leaf, train_score, test_score))\n",
    "  tabela = [max_depth, min_samples_leaf, train_score, test_score]\n",
    "  return tabela"
   ]
  },
  {
   "cell_type": "code",
   "execution_count": 6,
   "metadata": {},
   "outputs": [],
   "source": [
    "def busca():\n",
    "  resultados = []\n",
    "  for max_depth in range(1,33):\n",
    "    for min_samples_leaf in [32, 64, 128, 256]:\n",
    "        tabela = roda_arvore_de_decisao(max_depth, min_samples_leaf)\n",
    "        resultados.append(tabela)\n",
    "  resultados = pd.DataFrame(resultados, columns= [\"max_depth\",\"min_samples_leaf\",\"train\",\"test\"])\n",
    "  return resultados"
   ]
  },
  {
   "cell_type": "code",
   "execution_count": 7,
   "metadata": {},
   "outputs": [
    {
     "name": "stdout",
     "output_type": "stream",
     "text": [
      "Arvore max_depth = 1, min_samples_leaf = 32, treino = 75.79, teste = 75.78\n",
      "Arvore max_depth = 1, min_samples_leaf = 64, treino = 75.79, teste = 75.78\n",
      "Arvore max_depth = 1, min_samples_leaf = 128, treino = 75.79, teste = 75.78\n",
      "Arvore max_depth = 1, min_samples_leaf = 256, treino = 75.79, teste = 75.78\n",
      "Arvore max_depth = 2, min_samples_leaf = 32, treino = 75.79, teste = 75.78\n",
      "Arvore max_depth = 2, min_samples_leaf = 64, treino = 75.79, teste = 75.78\n",
      "Arvore max_depth = 2, min_samples_leaf = 128, treino = 75.79, teste = 75.78\n",
      "Arvore max_depth = 2, min_samples_leaf = 256, treino = 75.79, teste = 75.78\n",
      "Arvore max_depth = 3, min_samples_leaf = 32, treino = 78.75, teste = 78.70\n",
      "Arvore max_depth = 3, min_samples_leaf = 64, treino = 78.75, teste = 78.70\n",
      "Arvore max_depth = 3, min_samples_leaf = 128, treino = 78.75, teste = 78.70\n",
      "Arvore max_depth = 3, min_samples_leaf = 256, treino = 78.75, teste = 78.70\n",
      "Arvore max_depth = 4, min_samples_leaf = 32, treino = 78.76, teste = 78.66\n",
      "Arvore max_depth = 4, min_samples_leaf = 64, treino = 78.75, teste = 78.70\n",
      "Arvore max_depth = 4, min_samples_leaf = 128, treino = 78.75, teste = 78.70\n",
      "Arvore max_depth = 4, min_samples_leaf = 256, treino = 78.75, teste = 78.70\n",
      "Arvore max_depth = 5, min_samples_leaf = 32, treino = 78.79, teste = 78.35\n",
      "Arvore max_depth = 5, min_samples_leaf = 64, treino = 78.77, teste = 78.35\n",
      "Arvore max_depth = 5, min_samples_leaf = 128, treino = 78.77, teste = 78.21\n",
      "Arvore max_depth = 5, min_samples_leaf = 256, treino = 78.76, teste = 78.53\n",
      "Arvore max_depth = 6, min_samples_leaf = 32, treino = 78.90, teste = 78.01\n",
      "Arvore max_depth = 6, min_samples_leaf = 64, treino = 78.85, teste = 77.97\n",
      "Arvore max_depth = 6, min_samples_leaf = 128, treino = 78.86, teste = 78.27\n",
      "Arvore max_depth = 6, min_samples_leaf = 256, treino = 78.80, teste = 78.25\n",
      "Arvore max_depth = 7, min_samples_leaf = 32, treino = 79.14, teste = 77.89\n",
      "Arvore max_depth = 7, min_samples_leaf = 64, treino = 79.15, teste = 77.92\n",
      "Arvore max_depth = 7, min_samples_leaf = 128, treino = 79.04, teste = 78.06\n",
      "Arvore max_depth = 7, min_samples_leaf = 256, treino = 78.86, teste = 78.04\n",
      "Arvore max_depth = 8, min_samples_leaf = 32, treino = 79.46, teste = 77.43\n",
      "Arvore max_depth = 8, min_samples_leaf = 64, treino = 79.29, teste = 77.82\n",
      "Arvore max_depth = 8, min_samples_leaf = 128, treino = 79.15, teste = 78.08\n",
      "Arvore max_depth = 8, min_samples_leaf = 256, treino = 78.89, teste = 78.01\n",
      "Arvore max_depth = 9, min_samples_leaf = 32, treino = 79.73, teste = 77.52\n",
      "Arvore max_depth = 9, min_samples_leaf = 64, treino = 79.40, teste = 77.57\n",
      "Arvore max_depth = 9, min_samples_leaf = 128, treino = 79.16, teste = 78.05\n",
      "Arvore max_depth = 9, min_samples_leaf = 256, treino = 78.89, teste = 78.04\n",
      "Arvore max_depth = 10, min_samples_leaf = 32, treino = 79.91, teste = 77.35\n",
      "Arvore max_depth = 10, min_samples_leaf = 64, treino = 79.50, teste = 77.71\n",
      "Arvore max_depth = 10, min_samples_leaf = 128, treino = 79.23, teste = 78.18\n",
      "Arvore max_depth = 10, min_samples_leaf = 256, treino = 78.89, teste = 78.04\n",
      "Arvore max_depth = 11, min_samples_leaf = 32, treino = 80.10, teste = 77.14\n",
      "Arvore max_depth = 11, min_samples_leaf = 64, treino = 79.59, teste = 77.52\n",
      "Arvore max_depth = 11, min_samples_leaf = 128, treino = 79.25, teste = 78.11\n",
      "Arvore max_depth = 11, min_samples_leaf = 256, treino = 78.89, teste = 78.04\n",
      "Arvore max_depth = 12, min_samples_leaf = 32, treino = 80.27, teste = 77.13\n",
      "Arvore max_depth = 12, min_samples_leaf = 64, treino = 79.70, teste = 77.34\n",
      "Arvore max_depth = 12, min_samples_leaf = 128, treino = 79.25, teste = 78.07\n",
      "Arvore max_depth = 12, min_samples_leaf = 256, treino = 78.89, teste = 78.04\n",
      "Arvore max_depth = 13, min_samples_leaf = 32, treino = 80.42, teste = 77.10\n",
      "Arvore max_depth = 13, min_samples_leaf = 64, treino = 79.76, teste = 77.26\n",
      "Arvore max_depth = 13, min_samples_leaf = 128, treino = 79.25, teste = 78.07\n",
      "Arvore max_depth = 13, min_samples_leaf = 256, treino = 78.89, teste = 78.04\n",
      "Arvore max_depth = 14, min_samples_leaf = 32, treino = 80.54, teste = 77.11\n",
      "Arvore max_depth = 14, min_samples_leaf = 64, treino = 79.80, teste = 77.13\n",
      "Arvore max_depth = 14, min_samples_leaf = 128, treino = 79.25, teste = 78.07\n",
      "Arvore max_depth = 14, min_samples_leaf = 256, treino = 78.89, teste = 78.04\n",
      "Arvore max_depth = 15, min_samples_leaf = 32, treino = 80.66, teste = 76.97\n",
      "Arvore max_depth = 15, min_samples_leaf = 64, treino = 79.82, teste = 77.19\n",
      "Arvore max_depth = 15, min_samples_leaf = 128, treino = 79.25, teste = 78.07\n",
      "Arvore max_depth = 15, min_samples_leaf = 256, treino = 78.89, teste = 78.04\n",
      "Arvore max_depth = 16, min_samples_leaf = 32, treino = 80.73, teste = 76.95\n",
      "Arvore max_depth = 16, min_samples_leaf = 64, treino = 79.83, teste = 77.19\n",
      "Arvore max_depth = 16, min_samples_leaf = 128, treino = 79.25, teste = 78.07\n",
      "Arvore max_depth = 16, min_samples_leaf = 256, treino = 78.89, teste = 78.04\n",
      "Arvore max_depth = 17, min_samples_leaf = 32, treino = 80.79, teste = 76.97\n",
      "Arvore max_depth = 17, min_samples_leaf = 64, treino = 79.85, teste = 77.20\n",
      "Arvore max_depth = 17, min_samples_leaf = 128, treino = 79.25, teste = 78.07\n",
      "Arvore max_depth = 17, min_samples_leaf = 256, treino = 78.89, teste = 78.04\n",
      "Arvore max_depth = 18, min_samples_leaf = 32, treino = 80.83, teste = 76.87\n",
      "Arvore max_depth = 18, min_samples_leaf = 64, treino = 79.85, teste = 77.20\n",
      "Arvore max_depth = 18, min_samples_leaf = 128, treino = 79.25, teste = 78.07\n",
      "Arvore max_depth = 18, min_samples_leaf = 256, treino = 78.89, teste = 78.04\n",
      "Arvore max_depth = 19, min_samples_leaf = 32, treino = 80.86, teste = 76.93\n",
      "Arvore max_depth = 19, min_samples_leaf = 64, treino = 79.85, teste = 77.20\n",
      "Arvore max_depth = 19, min_samples_leaf = 128, treino = 79.25, teste = 78.07\n",
      "Arvore max_depth = 19, min_samples_leaf = 256, treino = 78.89, teste = 78.04\n",
      "Arvore max_depth = 20, min_samples_leaf = 32, treino = 80.88, teste = 76.86\n",
      "Arvore max_depth = 20, min_samples_leaf = 64, treino = 79.85, teste = 77.20\n",
      "Arvore max_depth = 20, min_samples_leaf = 128, treino = 79.25, teste = 78.07\n",
      "Arvore max_depth = 20, min_samples_leaf = 256, treino = 78.89, teste = 78.04\n",
      "Arvore max_depth = 21, min_samples_leaf = 32, treino = 80.88, teste = 76.86\n",
      "Arvore max_depth = 21, min_samples_leaf = 64, treino = 79.85, teste = 77.20\n",
      "Arvore max_depth = 21, min_samples_leaf = 128, treino = 79.25, teste = 78.07\n",
      "Arvore max_depth = 21, min_samples_leaf = 256, treino = 78.89, teste = 78.04\n",
      "Arvore max_depth = 22, min_samples_leaf = 32, treino = 80.88, teste = 76.86\n",
      "Arvore max_depth = 22, min_samples_leaf = 64, treino = 79.85, teste = 77.20\n",
      "Arvore max_depth = 22, min_samples_leaf = 128, treino = 79.25, teste = 78.07\n",
      "Arvore max_depth = 22, min_samples_leaf = 256, treino = 78.89, teste = 78.04\n",
      "Arvore max_depth = 23, min_samples_leaf = 32, treino = 80.88, teste = 76.86\n",
      "Arvore max_depth = 23, min_samples_leaf = 64, treino = 79.85, teste = 77.20\n",
      "Arvore max_depth = 23, min_samples_leaf = 128, treino = 79.25, teste = 78.07\n",
      "Arvore max_depth = 23, min_samples_leaf = 256, treino = 78.89, teste = 78.04\n",
      "Arvore max_depth = 24, min_samples_leaf = 32, treino = 80.88, teste = 76.86\n",
      "Arvore max_depth = 24, min_samples_leaf = 64, treino = 79.85, teste = 77.20\n",
      "Arvore max_depth = 24, min_samples_leaf = 128, treino = 79.25, teste = 78.07\n",
      "Arvore max_depth = 24, min_samples_leaf = 256, treino = 78.89, teste = 78.04\n",
      "Arvore max_depth = 25, min_samples_leaf = 32, treino = 80.88, teste = 76.86\n",
      "Arvore max_depth = 25, min_samples_leaf = 64, treino = 79.85, teste = 77.20\n",
      "Arvore max_depth = 25, min_samples_leaf = 128, treino = 79.25, teste = 78.07\n",
      "Arvore max_depth = 25, min_samples_leaf = 256, treino = 78.89, teste = 78.04\n",
      "Arvore max_depth = 26, min_samples_leaf = 32, treino = 80.88, teste = 76.86\n",
      "Arvore max_depth = 26, min_samples_leaf = 64, treino = 79.85, teste = 77.20\n",
      "Arvore max_depth = 26, min_samples_leaf = 128, treino = 79.25, teste = 78.07\n",
      "Arvore max_depth = 26, min_samples_leaf = 256, treino = 78.89, teste = 78.04\n",
      "Arvore max_depth = 27, min_samples_leaf = 32, treino = 80.88, teste = 76.86\n",
      "Arvore max_depth = 27, min_samples_leaf = 64, treino = 79.85, teste = 77.20\n",
      "Arvore max_depth = 27, min_samples_leaf = 128, treino = 79.25, teste = 78.07\n",
      "Arvore max_depth = 27, min_samples_leaf = 256, treino = 78.89, teste = 78.04\n",
      "Arvore max_depth = 28, min_samples_leaf = 32, treino = 80.88, teste = 76.86\n",
      "Arvore max_depth = 28, min_samples_leaf = 64, treino = 79.85, teste = 77.20\n",
      "Arvore max_depth = 28, min_samples_leaf = 128, treino = 79.25, teste = 78.07\n",
      "Arvore max_depth = 28, min_samples_leaf = 256, treino = 78.89, teste = 78.04\n",
      "Arvore max_depth = 29, min_samples_leaf = 32, treino = 80.88, teste = 76.86\n",
      "Arvore max_depth = 29, min_samples_leaf = 64, treino = 79.85, teste = 77.20\n",
      "Arvore max_depth = 29, min_samples_leaf = 128, treino = 79.25, teste = 78.07\n",
      "Arvore max_depth = 29, min_samples_leaf = 256, treino = 78.89, teste = 78.04\n",
      "Arvore max_depth = 30, min_samples_leaf = 32, treino = 80.88, teste = 76.86\n",
      "Arvore max_depth = 30, min_samples_leaf = 64, treino = 79.85, teste = 77.20\n",
      "Arvore max_depth = 30, min_samples_leaf = 128, treino = 79.25, teste = 78.07\n",
      "Arvore max_depth = 30, min_samples_leaf = 256, treino = 78.89, teste = 78.04\n",
      "Arvore max_depth = 31, min_samples_leaf = 32, treino = 80.88, teste = 76.86\n",
      "Arvore max_depth = 31, min_samples_leaf = 64, treino = 79.85, teste = 77.20\n",
      "Arvore max_depth = 31, min_samples_leaf = 128, treino = 79.25, teste = 78.07\n",
      "Arvore max_depth = 31, min_samples_leaf = 256, treino = 78.89, teste = 78.04\n",
      "Arvore max_depth = 32, min_samples_leaf = 32, treino = 80.88, teste = 76.86\n",
      "Arvore max_depth = 32, min_samples_leaf = 64, treino = 79.85, teste = 77.20\n",
      "Arvore max_depth = 32, min_samples_leaf = 128, treino = 79.25, teste = 78.07\n",
      "Arvore max_depth = 32, min_samples_leaf = 256, treino = 78.89, teste = 78.04\n"
     ]
    }
   ],
   "source": [
    "resultados = busca()"
   ]
  },
  {
   "cell_type": "code",
   "execution_count": 8,
   "metadata": {},
   "outputs": [
    {
     "data": {
      "text/html": [
       "<div>\n",
       "<style scoped>\n",
       "    .dataframe tbody tr th:only-of-type {\n",
       "        vertical-align: middle;\n",
       "    }\n",
       "\n",
       "    .dataframe tbody tr th {\n",
       "        vertical-align: top;\n",
       "    }\n",
       "\n",
       "    .dataframe thead th {\n",
       "        text-align: right;\n",
       "    }\n",
       "</style>\n",
       "<table border=\"1\" class=\"dataframe\">\n",
       "  <thead>\n",
       "    <tr style=\"text-align: right;\">\n",
       "      <th></th>\n",
       "      <th>max_depth</th>\n",
       "      <th>min_samples_leaf</th>\n",
       "      <th>train</th>\n",
       "      <th>test</th>\n",
       "    </tr>\n",
       "  </thead>\n",
       "  <tbody>\n",
       "    <tr>\n",
       "      <th>14</th>\n",
       "      <td>4</td>\n",
       "      <td>128</td>\n",
       "      <td>78.749965</td>\n",
       "      <td>78.697183</td>\n",
       "    </tr>\n",
       "    <tr>\n",
       "      <th>8</th>\n",
       "      <td>3</td>\n",
       "      <td>32</td>\n",
       "      <td>78.749965</td>\n",
       "      <td>78.697183</td>\n",
       "    </tr>\n",
       "    <tr>\n",
       "      <th>15</th>\n",
       "      <td>4</td>\n",
       "      <td>256</td>\n",
       "      <td>78.749965</td>\n",
       "      <td>78.697183</td>\n",
       "    </tr>\n",
       "    <tr>\n",
       "      <th>13</th>\n",
       "      <td>4</td>\n",
       "      <td>64</td>\n",
       "      <td>78.749965</td>\n",
       "      <td>78.697183</td>\n",
       "    </tr>\n",
       "    <tr>\n",
       "      <th>11</th>\n",
       "      <td>3</td>\n",
       "      <td>256</td>\n",
       "      <td>78.749965</td>\n",
       "      <td>78.697183</td>\n",
       "    </tr>\n",
       "  </tbody>\n",
       "</table>\n",
       "</div>"
      ],
      "text/plain": [
       "    max_depth  min_samples_leaf      train       test\n",
       "14          4               128  78.749965  78.697183\n",
       "8           3                32  78.749965  78.697183\n",
       "15          4               256  78.749965  78.697183\n",
       "13          4                64  78.749965  78.697183\n",
       "11          3               256  78.749965  78.697183"
      ]
     },
     "execution_count": 8,
     "metadata": {},
     "output_type": "execute_result"
    }
   ],
   "source": [
    "resultados.sort_values(\"test\", ascending=False).head()"
   ]
  },
  {
   "cell_type": "markdown",
   "metadata": {},
   "source": [
    "Acima estão melhores resultados com a combinação de max_depth e min_samples_leaf."
   ]
  },
  {
   "cell_type": "markdown",
   "metadata": {},
   "source": [
    "Porém com max_depth de 1 até 32 e min_samples_leaf de 32, 64, 128 e 256"
   ]
  },
  {
   "cell_type": "markdown",
   "metadata": {},
   "source": [
    "Rodando com todas as possibilidades de min_samples_leaf o código iria demorar horas para rodar."
   ]
  },
  {
   "cell_type": "markdown",
   "metadata": {},
   "source": [
    "<h3>Plotando Matriz de correlação</h3>"
   ]
  },
  {
   "cell_type": "code",
   "execution_count": 10,
   "metadata": {},
   "outputs": [
    {
     "data": {
      "text/html": [
       "<div>\n",
       "<style scoped>\n",
       "    .dataframe tbody tr th:only-of-type {\n",
       "        vertical-align: middle;\n",
       "    }\n",
       "\n",
       "    .dataframe tbody tr th {\n",
       "        vertical-align: top;\n",
       "    }\n",
       "\n",
       "    .dataframe thead th {\n",
       "        text-align: right;\n",
       "    }\n",
       "</style>\n",
       "<table border=\"1\" class=\"dataframe\">\n",
       "  <thead>\n",
       "    <tr style=\"text-align: right;\">\n",
       "      <th></th>\n",
       "      <th>max_depth</th>\n",
       "      <th>min_samples_leaf</th>\n",
       "      <th>train</th>\n",
       "      <th>test</th>\n",
       "    </tr>\n",
       "  </thead>\n",
       "  <tbody>\n",
       "    <tr>\n",
       "      <th>max_depth</th>\n",
       "      <td>1.000000e+00</td>\n",
       "      <td>-2.780775e-16</td>\n",
       "      <td>0.548480</td>\n",
       "      <td>-0.021632</td>\n",
       "    </tr>\n",
       "    <tr>\n",
       "      <th>min_samples_leaf</th>\n",
       "      <td>-2.780775e-16</td>\n",
       "      <td>1.000000e+00</td>\n",
       "      <td>-0.408134</td>\n",
       "      <td>0.445221</td>\n",
       "    </tr>\n",
       "    <tr>\n",
       "      <th>train</th>\n",
       "      <td>5.484798e-01</td>\n",
       "      <td>-4.081345e-01</td>\n",
       "      <td>1.000000</td>\n",
       "      <td>0.112838</td>\n",
       "    </tr>\n",
       "    <tr>\n",
       "      <th>test</th>\n",
       "      <td>-2.163201e-02</td>\n",
       "      <td>4.452207e-01</td>\n",
       "      <td>0.112838</td>\n",
       "      <td>1.000000</td>\n",
       "    </tr>\n",
       "  </tbody>\n",
       "</table>\n",
       "</div>"
      ],
      "text/plain": [
       "                     max_depth  min_samples_leaf     train      test\n",
       "max_depth         1.000000e+00     -2.780775e-16  0.548480 -0.021632\n",
       "min_samples_leaf -2.780775e-16      1.000000e+00 -0.408134  0.445221\n",
       "train             5.484798e-01     -4.081345e-01  1.000000  0.112838\n",
       "test             -2.163201e-02      4.452207e-01  0.112838  1.000000"
      ]
     },
     "execution_count": 10,
     "metadata": {},
     "output_type": "execute_result"
    }
   ],
   "source": [
    "corr = resultados.corr()\n",
    "corr"
   ]
  },
  {
   "cell_type": "code",
   "execution_count": 11,
   "metadata": {},
   "outputs": [
    {
     "name": "stderr",
     "output_type": "stream",
     "text": [
      "/tmp/ipykernel_20694/3792064364.py:10: DeprecationWarning: `np.bool` is a deprecated alias for the builtin `bool`. To silence this warning, use `bool` by itself. Doing this will not modify any behavior and is safe. If you specifically wanted the numpy scalar type, use `np.bool_` here.\n",
      "Deprecated in NumPy 1.20; for more details and guidance: https://numpy.org/devdocs/release/1.20.0-notes.html#deprecations\n",
      "  mask = np.zeros_like(corr, dtype=np.bool)\n"
     ]
    },
    {
     "data": {
      "text/plain": [
       "<AxesSubplot:>"
      ]
     },
     "execution_count": 11,
     "metadata": {},
     "output_type": "execute_result"
    },
    {
     "data": {
      "image/png": "[encoded data removed]",
      "text/plain": [
       "<Figure size 792x648 with 2 Axes>"
      ]
     },
     "metadata": {},
     "output_type": "display_data"
    }
   ],
   "source": [
    "from string import ascii_letters\n",
    "import numpy as np\n",
    "import pandas as pd\n",
    "import seaborn as sns\n",
    "import matplotlib.pyplot as plt\n",
    "\n",
    "sns.set(style=\"white\")\n",
    "\n",
    "# Generate a mask for the upper triangle\n",
    "mask = np.zeros_like(corr, dtype=np.bool)\n",
    "mask[np.triu_indices_from(mask)] = True\n",
    "\n",
    "# Set up the matplotlib figure\n",
    "f, ax = plt.subplots(figsize=(11, 9))\n",
    "\n",
    "# Generate a custom diverging colormap\n",
    "cmap = sns.diverging_palette(220, 10, as_cmap=True)\n",
    "\n",
    "# Draw the heatmap with the mask and correct aspect ratio\n",
    "sns.heatmap(corr, mask=mask, cmap=cmap, vmax=.3, center=0,\n",
    "            square=True, linewidths=.5, cbar_kws={\"shrink\": .5})"
   ]
  },
  {
   "cell_type": "markdown",
   "metadata": {},
   "source": [
    "quanto maior o min_sample_leaf, melhor a qualidade do teste"
   ]
  },
  {
   "cell_type": "markdown",
   "metadata": {},
   "source": []
  }
 ],
 "metadata": {
  "kernelspec": {
   "display_name": "Python 3.8.10 64-bit",
   "language": "python",
   "name": "python3"
  },
  "language_info": {
   "codemirror_mode": {
    "name": "ipython",
    "version": 3
   },
   "file_extension": ".py",
   "mimetype": "text/x-python",
   "name": "python",
   "nbconvert_exporter": "python",
   "pygments_lexer": "ipython3",
   "version": "3.8.10"
  },
  "orig_nbformat": 4,
  "vscode": {
   "interpreter": {
    "hash": "916dbcbb3f70747c44a77c7bcd40155683ae19c65e1c03b4aa3499c5328201f1"
   }
  }
 },
 "nbformat": 4,
 "nbformat_minor": 2
}
