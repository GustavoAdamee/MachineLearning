{
 "cells": [
  {
   "cell_type": "code",
   "execution_count": 46,
   "metadata": {},
   "outputs": [],
   "source": [
    "import os\n",
    "import pandas as pd\n",
    "import dotenv\n",
    "dotenv.load_dotenv(dotenv.find_dotenv())\n",
    "import psycopg2\n",
    "import time\n",
    "from sqlalchemy import create_engine\n",
    "import json\n",
    "from unidecode import unidecode\n",
    "import re\n",
    "import numpy as np\n",
    "from datetime import datetime"
   ]
  },
  {
   "cell_type": "code",
   "execution_count": 47,
   "metadata": {},
   "outputs": [],
   "source": [
    "def connect_db():\n",
    "    try:\n",
    "        alchemy_url = \"postgresql+psycopg2://{user}:{password}@{host}:{port}/{database}\".format(\n",
    "            user=os.getenv('login_sql_tech'),\n",
    "            password=os.getenv('senha_sql_tech'),\n",
    "            host=os.getenv('host_sql_tech'),\n",
    "            port=os.getenv('port_sql_tech'),\n",
    "            database=os.getenv('database_sql_tech')\n",
    "        )\n",
    "        return create_engine(alchemy_url)\n",
    "    except:\n",
    "        print(\"Erro ao conectar ao banco de dados\")\n",
    "        return False"
   ]
  },
  {
   "cell_type": "code",
   "execution_count": 48,
   "metadata": {},
   "outputs": [],
   "source": [
    "engine = connect_db()"
   ]
  },
  {
   "cell_type": "code",
   "execution_count": 63,
   "metadata": {},
   "outputs": [],
   "source": [
    "id_contrato = 4422"
   ]
  },
  {
   "cell_type": "code",
   "execution_count": 64,
   "metadata": {},
   "outputs": [],
   "source": [
    "dataFrame_infos = pd.read_sql_query(\"SELECT * FROM clientes WHERE id_contrato = {}\".format(id_contrato), engine)"
   ]
  },
  {
   "cell_type": "code",
   "execution_count": 65,
   "metadata": {},
   "outputs": [
    {
     "name": "stdout",
     "output_type": "stream",
     "text": [
      "Valor contrato: 83607.0\n",
      "Data contrato: 2022-04-05\n"
     ]
    }
   ],
   "source": [
    "valor_contrato = dataFrame_infos['valor_contrato'][0]\n",
    "data_contrato = dataFrame_infos['data_contrato'][0]\n",
    "\n",
    "print('Valor contrato:',valor_contrato)\n",
    "print('Data contrato:',data_contrato)"
   ]
  },
  {
   "cell_type": "code",
   "execution_count": 67,
   "metadata": {},
   "outputs": [
    {
     "name": "stdout",
     "output_type": "stream",
     "text": [
      "Total de dias com atraso: 8.0\n",
      "razao (valor pago/total a pagar): 1.0000008372504696\n",
      "Total de parcelas pagas com atraso: 1\n",
      "Total de parcelas: 2\n"
     ]
    }
   ],
   "source": [
    "dataFrame_parcelas = pd.read_sql_query(\n",
    "    \"SELECT * FROM parcelas WHERE id_contrato = {} and (tipo = 'Parcela' or tipo = 'Entrada') ORDER BY sequencia ASC\".format(id_contrato),\n",
    "    con = engine\n",
    ")\n",
    "\n",
    "\n",
    "total_dias_atraso = 0\n",
    "valor_pago = 0\n",
    "total_parcelas_pagas_com_atrasadas = 0\n",
    "total_parcelas_ = 0\n",
    "\n",
    "for row in dataFrame_parcelas.itertuples():\n",
    "    # print(type(row.vencimento))\n",
    "    total_dias = total_dias + row.dias_atraso\n",
    "    valor_pago = valor_pago + row.valor_pago\n",
    "    if(row.dias_atraso > 0):\n",
    "        total_parcelas_pagas_com_atrasadas = total_parcelas_pagas_com_atrasadas + 1\n",
    "    if(row.vencimento > datetime.date(datetime.now())):\n",
    "        print('achou')\n",
    "        break\n",
    "    if(row.sequencia.split('/')[0] == '012'):\n",
    "        break\n",
    "    total_parcelas_ = total_parcelas_ + 1\n",
    "\n",
    "print('Total de dias com atraso:',total_dias)\n",
    "print('razao (valor pago/total a pagar):', valor_pago/valor_contrato)\n",
    "print('Total de parcelas pagas com atraso:',total_parcelas_pagas_com_atrasadas)\n",
    "print('Total de parcelas:',total_parcelas_)\n",
    "\n",
    "    "
   ]
  }
 ],
 "metadata": {
  "kernelspec": {
   "display_name": "Python 3.8.10 64-bit",
   "language": "python",
   "name": "python3"
  },
  "language_info": {
   "codemirror_mode": {
    "name": "ipython",
    "version": 3
   },
   "file_extension": ".py",
   "mimetype": "text/x-python",
   "name": "python",
   "nbconvert_exporter": "python",
   "pygments_lexer": "ipython3",
   "version": "3.8.10"
  },
  "orig_nbformat": 4,
  "vscode": {
   "interpreter": {
    "hash": "916dbcbb3f70747c44a77c7bcd40155683ae19c65e1c03b4aa3499c5328201f1"
   }
  }
 },
 "nbformat": 4,
 "nbformat_minor": 2
}
