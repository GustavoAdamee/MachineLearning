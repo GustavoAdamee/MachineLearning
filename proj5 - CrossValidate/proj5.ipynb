{
 "cells": [
  {
   "cell_type": "code",
   "execution_count": 1,
   "metadata": {},
   "outputs": [],
   "source": [
    "import pandas as pd\n",
    "\n",
    "uri = \"https://gist.githubusercontent.com/guilhermesilveira/e99a526b2e7ccc6c3b70f53db43a87d2/raw/1605fc74aa778066bf2e6695e24d53cf65f2f447/machine-learning-carros-simulacao.csv\"\n",
    "\n",
    "dados = pd.read_csv(uri).drop(columns=[\"Unnamed: 0\"], axis=1)\n",
    "\n",
    "x = dados[['preco', 'idade_do_modelo', 'km_por_ano']]\n",
    "y = dados['vendido']"
   ]
  },
  {
   "cell_type": "code",
   "execution_count": 2,
   "metadata": {},
   "outputs": [],
   "source": [
    "def imprimeResult(results):\n",
    "    media = results['test_score'].mean()\n",
    "    print(\"Resultados cross validation:\",results['test_score'])\n",
    "    print(\"Média da precisão: {0:.2f}\".format(media*100),'%')\n",
    "\n",
    "    #Acurracy fica entre a média + 2(desvio_padrao) e a média - 2(desvio_padrao)\n",
    "    desvio_padrao = results['test_score'].std()\n",
    "    print(\"Desvio padrão: {0:.2f}\".format(desvio_padrao*100),'%')\n",
    "\n",
    "    acumulo_baixo = media - 2*desvio_padrao\n",
    "    acumulo_alto = media + 2*desvio_padrao\n",
    "    print(\"Acurracy esta entre: [\",acumulo_baixo*100,\"---\", acumulo_alto*100,\"]\")"
   ]
  },
  {
   "cell_type": "code",
   "execution_count": 3,
   "metadata": {},
   "outputs": [
    {
     "name": "stdout",
     "output_type": "stream",
     "text": [
      "Precisão do modelo: 78.36 %\n"
     ]
    }
   ],
   "source": [
    "from sklearn.model_selection import train_test_split\n",
    "from sklearn.tree import DecisionTreeClassifier\n",
    "import numpy as np\n",
    "\n",
    "SEED = 1\n",
    "np.random.seed(SEED)\n",
    "\n",
    "raw_train_x, raw_test_x, train_y, test_y = train_test_split(x, y, test_size = 0.25, stratify = y)\n",
    "\n",
    "model = DecisionTreeClassifier(max_depth = 3)\n",
    "model.fit(raw_train_x, train_y)\n",
    "\n",
    "print(\"Precisão do modelo:\",model.score(raw_test_x, test_y)*100,'%')"
   ]
  },
  {
   "cell_type": "markdown",
   "metadata": {},
   "source": [
    "<h1>Cross Validation (está sem aleatoriedade)</h1>"
   ]
  },
  {
   "cell_type": "code",
   "execution_count": 4,
   "metadata": {},
   "outputs": [
    {
     "name": "stdout",
     "output_type": "stream",
     "text": [
      "Resultados cross validation: [0.756  0.7565 0.7625 0.7545 0.7595]\n",
      "Média da precisão: 75.78 %\n",
      "Desvio padrão: 0.29 %\n",
      "Acurracy esta entre: [ 75.20868572571656 --- 76.35131427428342 ]\n"
     ]
    }
   ],
   "source": [
    "from sklearn.model_selection import cross_validate\n",
    "\n",
    "model = DecisionTreeClassifier(max_depth = 2)\n",
    "\n",
    "cv_results = cross_validate(model, x, y, cv = 5)    # CV Entre 5 e 10 está suficiente para o modelo ser bom\n",
    "\n",
    "imprimeResult(cv_results)\n",
    "\n",
    "\n"
   ]
  },
  {
   "cell_type": "markdown",
   "metadata": {},
   "source": [
    "    Desvio padrão muito pequeno"
   ]
  },
  {
   "cell_type": "markdown",
   "metadata": {},
   "source": [
    "<h1>Aleatoriedade no Cross validate...(KFold)</h1>"
   ]
  },
  {
   "cell_type": "code",
   "execution_count": 5,
   "metadata": {},
   "outputs": [
    {
     "name": "stdout",
     "output_type": "stream",
     "text": [
      "Resultados cross validation: [0.756  0.7565 0.7625 0.7545 0.7595]\n",
      "Média da precisão: 75.78 %\n",
      "Desvio padrão: 0.29 %\n",
      "Acurracy esta entre: [ 75.20868572571656 --- 76.35131427428342 ]\n"
     ]
    }
   ],
   "source": [
    "from sklearn.model_selection import KFold\n",
    "\n",
    "model = DecisionTreeClassifier(max_depth = 2)\n",
    "\n",
    "cv = KFold(n_splits = 5, shuffle = True) # suffle = True para não ficar em ordem, assim evita situações de azar\n",
    "\n",
    "cv_results = cross_validate(model, x, y, cv = 5)    # CV Entre 5 e 10 está suficiente para o modelo ser bom\n",
    "\n",
    "imprimeResult(cv_results)"
   ]
  },
  {
   "cell_type": "markdown",
   "metadata": {},
   "source": [
    "<h1>Kfold com stratify</h1>"
   ]
  },
  {
   "cell_type": "code",
   "execution_count": 6,
   "metadata": {},
   "outputs": [
    {
     "name": "stdout",
     "output_type": "stream",
     "text": [
      "Resultados cross validation: [0.756  0.7565 0.7625 0.7545 0.7595]\n",
      "Média da precisão: 75.78 %\n",
      "Desvio padrão: 0.29 %\n",
      "Acurracy esta entre: [ 75.20868572571656 --- 76.35131427428342 ]\n"
     ]
    }
   ],
   "source": [
    "from sklearn.model_selection import StratifiedKFold\n",
    "\n",
    "model = DecisionTreeClassifier(max_depth = 2)\n",
    "\n",
    "cv = StratifiedKFold(n_splits = 5, shuffle = True) # suffle = True para não ficar em ordem, assim evita situações de azar\n",
    "\n",
    "cv_results = cross_validate(model, x, y, cv = 5)    # CV Entre 5 e 10 está suficiente para o modelo ser bom\n",
    "\n",
    "imprimeResult(cv_results)"
   ]
  }
 ],
 "metadata": {
  "kernelspec": {
   "display_name": "Python 3.8.10 64-bit",
   "language": "python",
   "name": "python3"
  },
  "language_info": {
   "codemirror_mode": {
    "name": "ipython",
    "version": 3
   },
   "file_extension": ".py",
   "mimetype": "text/x-python",
   "name": "python",
   "nbconvert_exporter": "python",
   "pygments_lexer": "ipython3",
   "version": "3.8.10"
  },
  "orig_nbformat": 4,
  "vscode": {
   "interpreter": {
    "hash": "31f2aee4e71d21fbe5cf8b01ff0e069b9275f58929596ceb00d14d90e3e16cd6"
   }
  }
 },
 "nbformat": 4,
 "nbformat_minor": 2
}
