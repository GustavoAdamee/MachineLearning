{
 "cells": [
  {
   "cell_type": "code",
   "execution_count": 3,
   "metadata": {},
   "outputs": [],
   "source": [
    "#Features\n",
    "#pelo longo (0=nao, 1=sim)\n",
    "#perna curta (0=nao, 1=sim)\n",
    "#late (0=nao, 1=sim)\n",
    "\n",
    "porco1 = [0,1,0]\n",
    "porco2 = [0,1,1]\n",
    "porco3 = [1,1,0]\n",
    "\n",
    "cachorro1 = [0,1,1]\n",
    "cachorro2 = [1,0,1]\n",
    "cachorro3 = [1,1,1]\n",
    "\n",
    "#f(x) = y\n",
    "treino_x = [porco1, porco2, porco3, cachorro1, cachorro2, cachorro3]\n",
    "# 1 => porco e 0 => cachorro\n",
    "treino_y = [1,1,1,0,0,0] #label\n"
   ]
  },
  {
   "cell_type": "code",
   "execution_count": 7,
   "metadata": {},
   "outputs": [
    {
     "name": "stdout",
     "output_type": "stream",
     "text": [
      "A previsão foi: [0 1 0 1 0 1]\n",
      "A previsão correta é: [0, 1, 0, 1, 0, 0]\n",
      "Taxa de acerto do modelo = 0.83\n"
     ]
    }
   ],
   "source": [
    "#Estimador\n",
    "from sklearn.svm import LinearSVC\n",
    "#estimador que o modelo usara para classificar\n",
    "model = LinearSVC()\n",
    "\n",
    "#fazendo um modelo para se adaptar aos dados\n",
    "model.fit(treino_x, treino_y)\n",
    "\n",
    "random_animal_1 = [1,1,1]\n",
    "random_animal_2 = [0,1,0] \n",
    "random_animal_3 = [1,0,1] \n",
    "random_animal_4 = [0,0,0] \n",
    "random_animal_5 = [0,0,1]\n",
    "random_animal_6 = [1,1,0] #cachorro que não late, confundir o modelo\n",
    "\n",
    "teste_x = [random_animal_1, random_animal_2, random_animal_3, random_animal_4, random_animal_5, random_animal_6]\n",
    "teste_y = [0,1,0,1,0,0]\n",
    "\n",
    "previsao = model.predict(teste_x)\n",
    "print(\"A previsão foi: {}\".format(previsao))\n",
    "print(\"A previsão correta é: {}\".format(teste_y))\n",
    "\n",
    "#.sum() => soma todos os valores TRUE\n",
    "acertos = (previsao == teste_y).sum()\n",
    "total = len(teste_y)\n",
    "taxa_de_acerto = acertos/total\n",
    "print(\"Taxa de acerto do modelo = {0:.2f}\".format(taxa_de_acerto))"
   ]
  },
  {
   "cell_type": "code",
   "execution_count": 5,
   "metadata": {},
   "outputs": [
    {
     "name": "stdout",
     "output_type": "stream",
     "text": [
      "Taxa de acerto do modelo = 0.83\n"
     ]
    }
   ],
   "source": [
    "#Usando métodos da biblioeca para facilitar o processo\n",
    "from sklearn.metrics import accuracy_score\n",
    "\n",
    "#Primeiro o corrteo, depois o previsto\n",
    "taxa_de_acerto = accuracy_score(teste_y, previsao)\n",
    "print(\"Taxa de acerto do modelo = {0:.2f}\".format(taxa_de_acerto))"
   ]
  }
 ],
 "metadata": {
  "kernelspec": {
   "display_name": "Python 3.8.10 64-bit",
   "language": "python",
   "name": "python3"
  },
  "language_info": {
   "codemirror_mode": {
    "name": "ipython",
    "version": 3
   },
   "file_extension": ".py",
   "mimetype": "text/x-python",
   "name": "python",
   "nbconvert_exporter": "python",
   "pygments_lexer": "ipython3",
   "version": "3.8.10"
  },
  "orig_nbformat": 4,
  "vscode": {
   "interpreter": {
    "hash": "916dbcbb3f70747c44a77c7bcd40155683ae19c65e1c03b4aa3499c5328201f1"
   }
  }
 },
 "nbformat": 4,
 "nbformat_minor": 2
}
